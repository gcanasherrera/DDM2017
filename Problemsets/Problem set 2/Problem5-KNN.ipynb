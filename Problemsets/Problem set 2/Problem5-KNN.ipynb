{
 "cells": [
  {
   "cell_type": "code",
   "execution_count": 2,
   "metadata": {
    "collapsed": true
   },
   "outputs": [],
   "source": [
    "#### Import required packages\n",
    "import numpy as np\n",
    "import math \n",
    "import matplotlib.pyplot as plt\n",
    "from scipy import spatial #KDTREE altorithm\n",
    "import cPickle\n",
    "import sys\n",
    "import emcee\n",
    "import scipy.optimize as op"
   ]
  },
  {
   "cell_type": "code",
   "execution_count": 3,
   "metadata": {
    "collapsed": true
   },
   "outputs": [],
   "source": [
    "def pickle_to_file(data, fname):\n",
    "    \"\"\"Save a variable simply to a file\"\"\"\n",
    "    try:\n",
    "        fh = open(fname, 'w')\n",
    "        cPickle.dump(data, fh)\n",
    "        fh.close()\n",
    "    except:\n",
    "        print \"Pickling failed!\", sys.exc_info()[0]\n",
    "\n",
    "def pickle_from_file(fname):\n",
    "    \"\"\"Restore a variable saved with pickle_to_file\"\"\"\n",
    "    try:\n",
    "        fh = open(fname, 'r')\n",
    "        data = cPickle.load(fh)\n",
    "        fh.close()\n",
    "    except:\n",
    "        print \"Loading pickled data failed!\", sys.exc_info()[0]\n",
    "        data = None\n",
    "\n",
    "    return data"
   ]
  },
  {
   "cell_type": "code",
   "execution_count": 4,
   "metadata": {
    "collapsed": true
   },
   "outputs": [],
   "source": [
    "\"\"\"\n",
    "    Method that call KDTree algorithm from scipy library, \n",
    "    returning the index at which objects are cross-matched \n",
    "\"\"\"\n",
    "def kdtree(data, compare, k=1):\n",
    "    tree = spatial.KDTree(data)\n",
    "    distances, indices = tree.query(compare, distance_upper_bound = k)\n",
    "    return distances, indices\n",
    "\n",
    "\"\"\"\n",
    "    calculate average for y\n",
    "\"\"\"\n",
    "def average(y, k=1):\n",
    "    sum_y = np.sum(y)\n",
    "    average_y = (1./k)*sum_y\n",
    "    return average_y"
   ]
  },
  {
   "cell_type": "code",
   "execution_count": 8,
   "metadata": {
    "collapsed": false
   },
   "outputs": [
    {
     "name": "stdout",
     "output_type": "stream",
     "text": [
      "2.86995796858\n"
     ]
    }
   ],
   "source": [
    "#Dictionary\n",
    "d = pickle_from_file('points_example1.pkl')\n",
    "data = zip(d['x'].ravel(), d['y'].ravel())\n",
    "dist, index = kdtree(data, data, k=1)\n",
    "ave_y = average(d['y'][index], k=1)\n",
    "\n",
    "print ave_y\n"
   ]
  },
  {
   "cell_type": "code",
   "execution_count": null,
   "metadata": {
    "collapsed": true
   },
   "outputs": [],
   "source": []
  }
 ],
 "metadata": {
  "kernelspec": {
   "display_name": "Python 2",
   "language": "python",
   "name": "python2"
  },
  "language_info": {
   "codemirror_mode": {
    "name": "ipython",
    "version": 2
   },
   "file_extension": ".py",
   "mimetype": "text/x-python",
   "name": "python",
   "nbconvert_exporter": "python",
   "pygments_lexer": "ipython2",
   "version": "2.7.12"
  }
 },
 "nbformat": 4,
 "nbformat_minor": 0
}
