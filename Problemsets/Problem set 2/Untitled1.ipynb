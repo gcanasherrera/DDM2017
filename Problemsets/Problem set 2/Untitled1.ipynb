{
 "cells": [
  {
   "cell_type": "code",
   "execution_count": 13,
   "metadata": {
    "collapsed": false
   },
   "outputs": [],
   "source": [
    "import numpy as np\n",
    "import cPickle\n",
    "import math\n",
    "import sys\n",
    "import emcee\n",
    "import scipy.optimize as op\n",
    "import matplotlib.pyplot as plt\n",
    "import corner\n",
    "from scipy import integrate\n",
    "%matplotlib inline"
   ]
  },
  {
   "cell_type": "code",
   "execution_count": 15,
   "metadata": {
    "collapsed": true
   },
   "outputs": [],
   "source": [
    "def pickle_to_file(data, fname):\n",
    "    \"\"\"Save a variable simply to a file\"\"\"\n",
    "    try:\n",
    "        fh = open(fname, 'w')\n",
    "        cPickle.dump(data, fh)\n",
    "        fh.close()\n",
    "    except:\n",
    "        print \"Pickling failed!\", sys.exc_info()[0]\n",
    "\n",
    "def pickle_from_file(fname):\n",
    "    \"\"\"Restore a variable saved with pickle_to_file\"\"\"\n",
    "    try:\n",
    "        fh = open(fname, 'r')\n",
    "        data = cPickle.load(fh)\n",
    "        fh.close()\n",
    "    except:\n",
    "        print \"Loading pickled data failed!\", sys.exc_info()[0]\n",
    "        data = None\n",
    "\n",
    "    return data\n",
    "\n",
    "\n",
    "def lnL(theta, x, y, yerr):\n",
    "    model = np.polynomial.polynomial.polyval(x, theta)\n",
    "    \n",
    "    #print \"model is= {0}\".format(model)\n",
    "    \n",
    "    inv_sigma2 = 1.0/(yerr**2)\n",
    "    return -0.5*(np.sum((y-model)**2*inv_sigma2))\n",
    "\n",
    "def lnprior(theta):\n",
    "    for elements in theta:\n",
    "        if -100 < elements < 100:\n",
    "            #return np.log(limits_for_prior**-len(theta)) #PREGUNTAR !!!!!!!!\n",
    "            return np.log(200)\n",
    "    return -np.inf\n",
    "\n",
    "def lnprob(theta, x, y, yerr):\n",
    "    lp = lnprior(theta)    \n",
    "    if not np.isfinite(lp):\n",
    "        return -np.inf\n",
    "    return lp+lnL(theta, x, y, yerr)\n",
    "\n",
    "def integrate_posterior_2D(lnprop, theta0, theta1, xlim, ylim, x, y, yerr):\n",
    "    func = lambda theta0, theta1: np.exp(lnprob([theta0, theta1], x, y, yerr))\n",
    "    return integrate.dblquad(func, xlim[0], xlim[1],\n",
    "                             lambda x: ylim[0], lambda x: ylim[1])"
   ]
  },
  {
   "cell_type": "code",
   "execution_count": 9,
   "metadata": {
    "collapsed": false
   },
   "outputs": [],
   "source": [
    "#Dictionary\n",
    "d = pickle_from_file('data-for-poly-test.pkl')\n",
    "#print d"
   ]
  },
  {
   "cell_type": "code",
   "execution_count": 32,
   "metadata": {
    "collapsed": false
   },
   "outputs": [
    {
     "data": {
      "text/plain": [
       "(1.2563242699816897e-26, 2.5970459055507145e-24)"
      ]
     },
     "execution_count": 32,
     "metadata": {},
     "output_type": "execute_result"
    }
   ],
   "source": [
    "theta0, theta1 = [-0.3270517196132437, 1.5441764461723155]\n",
    "xlim=[-0.47086515425428987, -0.15493311046325484]\n",
    "ylim=[1.3403336188690207, 1.7588797074872327]\n",
    "\n",
    "func = lambda theta0, theta1: np.exp(lnprob([theta0, theta1], d['x'], d['y'], d['sigma_y']))\n",
    "integrate.dblquad(func,-1, 1,\n",
    "                             lambda x: 0, lambda x: 1)"
   ]
  },
  {
   "cell_type": "code",
   "execution_count": null,
   "metadata": {
    "collapsed": true
   },
   "outputs": [],
   "source": []
  }
 ],
 "metadata": {
  "kernelspec": {
   "display_name": "Python 2",
   "language": "python",
   "name": "python2"
  },
  "language_info": {
   "codemirror_mode": {
    "name": "ipython",
    "version": 2
   },
   "file_extension": ".py",
   "mimetype": "text/x-python",
   "name": "python",
   "nbconvert_exporter": "python",
   "pygments_lexer": "ipython2",
   "version": "2.7.12"
  }
 },
 "nbformat": 4,
 "nbformat_minor": 0
}
