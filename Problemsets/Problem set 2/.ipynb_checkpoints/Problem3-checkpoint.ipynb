{
 "cells": [
  {
   "cell_type": "code",
   "execution_count": 2,
   "metadata": {
    "collapsed": false
   },
   "outputs": [],
   "source": [
    "import numpy as np\n",
    "import cPickle\n",
    "import math\n",
    "import sys\n",
    "import emcee\n",
    "import scipy.optimize as op\n",
    "import matplotlib.pyplot as plt"
   ]
  },
  {
   "cell_type": "code",
   "execution_count": 3,
   "metadata": {
    "collapsed": false
   },
   "outputs": [],
   "source": [
    "def pickle_to_file(data, fname):\n",
    "    \"\"\"Save a variable simply to a file\"\"\"\n",
    "    try:\n",
    "        fh = open(fname, 'w')\n",
    "        cPickle.dump(data, fh)\n",
    "        fh.close()\n",
    "    except:\n",
    "        print \"Pickling failed!\", sys.exc_info()[0]\n",
    "\n",
    "def pickle_from_file(fname):\n",
    "    \"\"\"Restore a variable saved with pickle_to_file\"\"\"\n",
    "    try:\n",
    "        fh = open(fname, 'r')\n",
    "        data = cPickle.load(fh)\n",
    "        fh.close()\n",
    "    except:\n",
    "        print \"Loading pickled data failed!\", sys.exc_info()[0]\n",
    "        data = None\n",
    "\n",
    "    return data"
   ]
  },
  {
   "cell_type": "code",
   "execution_count": 4,
   "metadata": {
    "collapsed": false
   },
   "outputs": [
    {
     "name": "stdout",
     "output_type": "stream",
     "text": [
      "{'y': array([-4.19193407, -2.40547368, -1.32244696, -1.34885689,  0.03201633,\n",
      "        0.6821052 ,  1.4944546 ,  1.79548533,  3.35779705,  4.77681106]), 'x': array([-3.        , -2.33333333, -1.66666667, -1.        , -0.33333333,\n",
      "        0.33333333,  1.        ,  1.66666667,  2.33333333,  3.        ]), 'y_true': array([-3.18      , -2.59777778, -1.94444444, -1.22      , -0.42444444,\n",
      "        0.44222222,  1.38      ,  2.38888889,  3.46888889,  4.62      ]), 'sigma': array([ 0.57832555,  0.56117623,  0.53944334,  0.51045361,  0.4651494 ,\n",
      "        0.46649979,  0.5174734 ,  0.55456031,  0.58624953,  0.61494185])}\n"
     ]
    }
   ],
   "source": [
    "#Dictionary\n",
    "d = pickle_from_file('points_example1.pkl')\n",
    "print d"
   ]
  },
  {
   "cell_type": "code",
   "execution_count": 13,
   "metadata": {
    "collapsed": false
   },
   "outputs": [
    {
     "name": "stdout",
     "output_type": "stream",
     "text": [
      "Best fit for a=67497077.3209 and b=-355135737.25\n"
     ]
    }
   ],
   "source": [
    "#Define likelihook  (a) and (b)\n",
    "def neglnL(theta, x, y, yerr):\n",
    "    a, b = theta\n",
    "    model = b*x + a\n",
    "    inv_sigma2 = 1.0/(yerr**2)\n",
    "    return -0.5*(np.sum((y-model)**2*inv_sigma2))\n",
    "\n",
    "def lnL(theta, x, y, yerr):\n",
    "    a, b = theta\n",
    "    model = b * x + a\n",
    "    inv_sigma2 = 1.0/(yerr**2) \n",
    "    return 0.5*(np.sum((y-model)**2*inv_sigma2))\n",
    "\n",
    "result = op.minimize(lnL, [1.0, 0.0], args=(d['x'], d['y'], d['sigma']))\n",
    "a_ml, b_ml = result['x']\n",
    "p_init = np.array([a_ml, b_ml]) \n",
    "print \"Best fit for a={0} and b={1}\".format(a_ml, b_ml)"
   ]
  },
  {
   "cell_type": "code",
   "execution_count": 19,
   "metadata": {
    "collapsed": false
   },
   "outputs": [],
   "source": [
    "#Define prior \n",
    "def lnprior(theta):\n",
    "    a, b = theta\n",
    "    if -5.0 < a < 5.0 and -10.0 < b < 10.0:\n",
    "        return 0.0\n",
    "    return -np.inf\n",
    "\n",
    "def lnprob(theta, x, y, yerr):\n",
    "    lp = lnprior(theta)\n",
    "    if not np.isfinite(lp):\n",
    "        return -np.inf\n",
    "    return lp+neglnL(theta, x, y, yerr)\n",
    "\n",
    "\n",
    "#MCMC\n",
    "# Set up the properties of the problem.\n",
    "ndim, nwalkers = 2, 100\n",
    "# Setup a number of initial positions.\n",
    "pos = [p_init + 1e-4*np.random.randn(ndim) for i in range(nwalkers)]\n",
    "# Create the sampler.\n",
    "sampler = emcee.EnsembleSampler(nwalkers, ndim, lnprob, args=(d['x'], d['y'], d['sigma']))\n",
    "# Run the process.\n",
    "pos, prob, state = sampler.run_mcmc(pos, 500)"
   ]
  },
  {
   "cell_type": "code",
   "execution_count": 20,
   "metadata": {
    "collapsed": false
   },
   "outputs": [
    {
     "name": "stdout",
     "output_type": "stream",
     "text": [
      "Mean acceptance fraction: 0.175\n"
     ]
    }
   ],
   "source": [
    "print(\"Mean acceptance fraction: {0:.3f}\"\n",
    "                .format(np.mean(sampler.acceptance_fraction)))"
   ]
  },
  {
   "cell_type": "code",
   "execution_count": 21,
   "metadata": {
    "collapsed": true
   },
   "outputs": [],
   "source": [
    "for i in range(ndim):\n",
    "    plt.figure()\n",
    "    plt.hist(sampler.flatchain[:,i], 100, color=\"k\", histtype=\"step\")\n",
    "    plt.title(\"Dimension {0:d}\".format(i))\n",
    "\n",
    "plt.show()"
   ]
  },
  {
   "cell_type": "code",
   "execution_count": null,
   "metadata": {
    "collapsed": true
   },
   "outputs": [],
   "source": []
  }
 ],
 "metadata": {
  "kernelspec": {
   "display_name": "Python 2",
   "language": "python",
   "name": "python2"
  },
  "language_info": {
   "codemirror_mode": {
    "name": "ipython",
    "version": 2
   },
   "file_extension": ".py",
   "mimetype": "text/x-python",
   "name": "python",
   "nbconvert_exporter": "python",
   "pygments_lexer": "ipython2",
   "version": "2.7.12"
  }
 },
 "nbformat": 4,
 "nbformat_minor": 0
}
