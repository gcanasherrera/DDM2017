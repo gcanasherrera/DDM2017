{
 "cells": [
  {
   "cell_type": "code",
   "execution_count": 3,
   "metadata": {
    "collapsed": true
   },
   "outputs": [],
   "source": [
    "#### Import required packages\n",
    "import numpy as np\n",
    "import math \n",
    "import matplotlib.pyplot as plt\n",
    "from scipy import spatial #KDTREE altorithm\n",
    "import pickle"
   ]
  },
  {
   "cell_type": "code",
   "execution_count": 1,
   "metadata": {
    "collapsed": true
   },
   "outputs": [],
   "source": [
    "\"\"\"\n",
    "    Method that call KDTree algorithm from scipy library, \n",
    "    returning the index at which objects are cross-matched \n",
    "\"\"\"\n",
    "def kdtree(data, compare, k=1):\n",
    "    tree = spatial.KDTree(data)\n",
    "    distances, indices = tree.query(compare, distance_upper_bound = k)\n",
    "    return distances, indices\n",
    "\n",
    "\"\"\"\n",
    "    calculate average for y\n",
    "\"\"\"\n",
    "def average(y, k=1):\n",
    "    sum_y = np.sum(y)\n",
    "    average_y = (1./k)*sum_y\n",
    "    return average_y"
   ]
  },
  {
   "cell_type": "code",
   "execution_count": 5,
   "metadata": {
    "collapsed": false
   },
   "outputs": [
    {
     "name": "stdout",
     "output_type": "stream",
     "text": [
      "points_example1.pkl\n"
     ]
    }
   ],
   "source": [
    "#### Load data\n",
    "with open('points_example1.pkl', 'rb') as f:\n",
    "    data = pickle.load(f)\n",
    "#data = zip(x.ravel(), y.ravel())\n",
    "print data"
   ]
  },
  {
   "cell_type": "code",
   "execution_count": null,
   "metadata": {
    "collapsed": true
   },
   "outputs": [],
   "source": []
  }
 ],
 "metadata": {
  "kernelspec": {
   "display_name": "Python 2",
   "language": "python",
   "name": "python2"
  },
  "language_info": {
   "codemirror_mode": {
    "name": "ipython",
    "version": 2
   },
   "file_extension": ".py",
   "mimetype": "text/x-python",
   "name": "python",
   "nbconvert_exporter": "python",
   "pygments_lexer": "ipython2",
   "version": "2.7.12"
  }
 },
 "nbformat": 4,
 "nbformat_minor": 0
}
