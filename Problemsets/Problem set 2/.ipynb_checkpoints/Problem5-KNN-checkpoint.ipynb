{
 "cells": [
  {
   "cell_type": "code",
   "execution_count": 1,
   "metadata": {
    "collapsed": true
   },
   "outputs": [],
   "source": [
    "#### Import required packages\n",
    "import numpy as np\n",
    "import math \n",
    "import matplotlib.pyplot as plt\n",
    "from scipy import spatial #KDTREE altorithm\n",
    "import cPickle\n",
    "import sys\n",
    "import emcee\n",
    "import scipy.optimize as op"
   ]
  },
  {
   "cell_type": "code",
   "execution_count": 2,
   "metadata": {
    "collapsed": true
   },
   "outputs": [],
   "source": [
    "def pickle_to_file(data, fname):\n",
    "    \"\"\"Save a variable simply to a file\"\"\"\n",
    "    try:\n",
    "        fh = open(fname, 'w')\n",
    "        cPickle.dump(data, fh)\n",
    "        fh.close()\n",
    "    except:\n",
    "        print \"Pickling failed!\", sys.exc_info()[0]\n",
    "\n",
    "def pickle_from_file(fname):\n",
    "    \"\"\"Restore a variable saved with pickle_to_file\"\"\"\n",
    "    try:\n",
    "        fh = open(fname, 'r')\n",
    "        data = cPickle.load(fh)\n",
    "        fh.close()\n",
    "    except:\n",
    "        print \"Loading pickled data failed!\", sys.exc_info()[0]\n",
    "        data = None\n",
    "\n",
    "    return data"
   ]
  },
  {
   "cell_type": "code",
   "execution_count": 3,
   "metadata": {
    "collapsed": true
   },
   "outputs": [],
   "source": [
    "\"\"\"\n",
    "    Method that call KDTree algorithm from scipy library, \n",
    "    returning the index at which objects are cross-matched \n",
    "\"\"\"\n",
    "def kdtree(data, compare, k=1):\n",
    "    tree = spatial.KDTree(data)\n",
    "    distances, indices = tree.query(compare, distance_upper_bound = k)\n",
    "    return distances, indices\n",
    "\n",
    "\"\"\"\n",
    "    calculate average for y\n",
    "\"\"\"\n",
    "def average(y, k=1):\n",
    "    sum_y = np.sum(y)\n",
    "    average_y = (1./k)*sum_y\n",
    "    return average_y"
   ]
  },
  {
   "cell_type": "code",
   "execution_count": 4,
   "metadata": {
    "collapsed": false
   },
   "outputs": [
    {
     "name": "stdout",
     "output_type": "stream",
     "text": [
      "{'y': array([-4.19193407, -2.40547368, -1.32244696, -1.34885689,  0.03201633,\n",
      "        0.6821052 ,  1.4944546 ,  1.79548533,  3.35779705,  4.77681106]), 'x': array([-3.        , -2.33333333, -1.66666667, -1.        , -0.33333333,\n",
      "        0.33333333,  1.        ,  1.66666667,  2.33333333,  3.        ]), 'y_true': array([-3.18      , -2.59777778, -1.94444444, -1.22      , -0.42444444,\n",
      "        0.44222222,  1.38      ,  2.38888889,  3.46888889,  4.62      ]), 'sigma': array([ 0.57832555,  0.56117623,  0.53944334,  0.51045361,  0.4651494 ,\n",
      "        0.46649979,  0.5174734 ,  0.55456031,  0.58624953,  0.61494185])}\n"
     ]
    }
   ],
   "source": [
    "#Dictionary\n",
    "d = pickle_from_file('points_example1.pkl')\n",
    "#Set up KDTree"
   ]
  },
  {
   "cell_type": "code",
   "execution_count": null,
   "metadata": {
    "collapsed": true
   },
   "outputs": [],
   "source": []
  }
 ],
 "metadata": {
  "kernelspec": {
   "display_name": "Python 2",
   "language": "python",
   "name": "python2"
  },
  "language_info": {
   "codemirror_mode": {
    "name": "ipython",
    "version": 2
   },
   "file_extension": ".py",
   "mimetype": "text/x-python",
   "name": "python",
   "nbconvert_exporter": "python",
   "pygments_lexer": "ipython2",
   "version": "2.7.12"
  }
 },
 "nbformat": 4,
 "nbformat_minor": 0
}
