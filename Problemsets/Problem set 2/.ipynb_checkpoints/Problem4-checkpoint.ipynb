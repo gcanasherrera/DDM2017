{
 "cells": [
  {
   "cell_type": "code",
   "execution_count": 2,
   "metadata": {
    "collapsed": false
   },
   "outputs": [],
   "source": [
    "import numpy as np\n",
    "import cPickle\n",
    "import math\n",
    "import sys\n",
    "import emcee\n",
    "import scipy.optimize as op\n",
    "import matplotlib.pyplot as plt\n",
    "%matplotlib inline"
   ]
  },
  {
   "cell_type": "code",
   "execution_count": 3,
   "metadata": {
    "collapsed": true
   },
   "outputs": [],
   "source": [
    "def pickle_to_file(data, fname):\n",
    "    \"\"\"Save a variable simply to a file\"\"\"\n",
    "    try:\n",
    "        fh = open(fname, 'w')\n",
    "        cPickle.dump(data, fh)\n",
    "        fh.close()\n",
    "    except:\n",
    "        print \"Pickling failed!\", sys.exc_info()[0]\n",
    "\n",
    "def pickle_from_file(fname):\n",
    "    \"\"\"Restore a variable saved with pickle_to_file\"\"\"\n",
    "    try:\n",
    "        fh = open(fname, 'r')\n",
    "        data = cPickle.load(fh)\n",
    "        fh.close()\n",
    "    except:\n",
    "        print \"Loading pickled data failed!\", sys.exc_info()[0]\n",
    "        data = None\n",
    "\n",
    "    return data"
   ]
  },
  {
   "cell_type": "code",
   "execution_count": 4,
   "metadata": {
    "collapsed": false
   },
   "outputs": [
    {
     "name": "stdout",
     "output_type": "stream",
     "text": [
      "{'y': array([ 0.82335125,  1.5143732 , -0.21704837,  0.33184369,  0.0786035 ,\n",
      "        0.02511367,  0.0466854 ,  0.63996613,  0.74664642,  1.10185182,\n",
      "        0.80585326,  1.43927215,  0.18360144,  2.09060301, -0.17936281,\n",
      "        1.51248316,  0.64156174,  1.07092463, -0.00727646,  0.09761826]), 'x': array([  7.08937408e-01,   1.22455164e+00,   1.94437189e-04,\n",
      "         5.13965373e-01,   2.49485014e-01,   1.56975611e-01,\n",
      "         3.16642359e-01,   5.87453236e-01,   6.74504706e-01,\n",
      "         9.15988448e-01,   7.12630674e-01,   1.16487315e+00,\n",
      "         3.47568825e-01,   1.49279964e+00,   4.65589084e-02,\n",
      "         1.13979477e+00,   7.09418164e-01,   9.49772708e-01,\n",
      "         2.38657796e-01,   3.36772531e-01]), 'sigma_y': array([ 0.1,  0.1,  0.1,  0.1,  0.1,  0.1,  0.1,  0.1,  0.1,  0.1,  0.1,\n",
      "        0.1,  0.1,  0.1,  0.1,  0.1,  0.1,  0.1,  0.1,  0.1])}\n"
     ]
    }
   ],
   "source": [
    "#Dictionary\n",
    "d = pickle_from_file('data-for-poly-test.pkl')\n",
    "print d"
   ]
  },
  {
   "cell_type": "code",
   "execution_count": 5,
   "metadata": {
    "collapsed": false,
    "scrolled": true
   },
   "outputs": [
    {
     "data": {
      "text/plain": [
       "<Container object of 3 artists>"
      ]
     },
     "execution_count": 5,
     "metadata": {},
     "output_type": "execute_result"
    },
    {
     "name": "stderr",
     "output_type": "stream",
     "text": [
      "/Users/guadalupecanasherrera/anaconda/lib/python2.7/site-packages/matplotlib/collections.py:590: FutureWarning: elementwise comparison failed; returning scalar instead, but in the future will perform elementwise comparison\n",
      "  if self._edgecolors == str('face'):\n"
     ]
    },
    {
     "data": {
      "image/png": "[encoded data removed]",
      "text/plain": [
       "<matplotlib.figure.Figure at 0x10b073a10>"
      ]
     },
     "metadata": {},
     "output_type": "display_data"
    }
   ],
   "source": [
    "#Ploteo los datos \n",
    "plt.errorbar(d['x'], d['y'], yerr=d['sigma_y'], fmt='o')"
   ]
  },
  {
   "cell_type": "code",
   "execution_count": 36,
   "metadata": {
    "collapsed": false
   },
   "outputs": [
    {
     "name": "stdout",
     "output_type": "stream",
     "text": [
      "[410.38838408308357, 2574.5534449921197, 2543.3845019211667, 3208.3711135813114, 19220.332255465361, 78661.837477591602, 5630946.6806880981, 90093056.022123635, 2520057986.647666]\n"
     ]
    },
    {
     "data": {
      "text/plain": [
       "[<matplotlib.lines.Line2D at 0x10fdaaa90>]"
      ]
     },
     "execution_count": 36,
     "metadata": {},
     "output_type": "execute_result"
    },
    {
     "data": {
      "image/png": "[encoded data removed]",
      "text/plain": [
       "<matplotlib.figure.Figure at 0x10fce0050>"
      ]
     },
     "metadata": {},
     "output_type": "display_data"
    }
   ],
   "source": [
    "#Exercise (a) and (b): Define the maximum likelihood (ML)\n",
    "def neglnL(theta, x, y, yerr, n):\n",
    "    model = np.polynomial.polynomial.polyval(x, theta)\n",
    "    inv_sigma2 = 1.0/(yerr**2)\n",
    "    return 0.5*(np.sum((y-model)**2*inv_sigma2))\n",
    "\n",
    "def lnL(theta, x, y, yerr):\n",
    "    model = np.polynomial.polynomial.polypow(theta, n, maxpower=None)\n",
    "    inv_sigma2 = 1.0/(yerr**2) \n",
    "    return -0.5*(np.sum((y-model)**2*inv_sigma2))\n",
    "\n",
    "\n",
    "n=9\n",
    "array_ml = []\n",
    "maximum_like_per_n = []\n",
    "nums=[]\n",
    "\n",
    "\n",
    "for i in range (1, n+1):\n",
    "    thetas_op=[]  \n",
    "    theta = np.random.randn(i)\n",
    "    result_all = op.minimize(neglnL, theta, args = ( d['x'], d['y'], d['sigma_y'], i))\n",
    "    array_ml.append(result_all)  \n",
    "    thetas_op.append(result_all[\"x\"])    \n",
    "    maximum_like_per_n.append(neglnL(thetas_op, d['x'], d['y'], d['sigma_y'], i))    \n",
    "    nums.append(i)\n",
    "\n",
    "\n",
    "print maximum_like_per_n\n",
    "plt.plot(nums, maximum_like_per_n, 'o')\n",
    "\n",
    "\n",
    "#Conclusion: no, the likelihood of the best-fitting model does not provide a  good wat to decide which model is the best.\n",
    "#You cannot distinguish between n=1, 2, 3, 4, 5..."
   ]
  },
  {
   "cell_type": "code",
   "execution_count": 50,
   "metadata": {
    "collapsed": false
   },
   "outputs": [
    {
     "name": "stdout",
     "output_type": "stream",
     "text": [
      "[823.77250043972117, 5155.0983545313475, 5095.7562006629951, 6428.725156256839, 38455.643172298493, 157341.64934882452, 11261914.331502112, 180186136.01010546, 5040116000.2569227]\n",
      "[822.77676816616713, 5153.1068899842394, 5092.7690038423334, 6424.7422271626228, 38450.664510930721, 157335.6749551832, 11261907.361376196, 180186128.04424727, 5040115991.295332]\n"
     ]
    },
    {
     "data": {
      "image/png": "[encoded data removed]",
      "text/plain": [
       "<matplotlib.figure.Figure at 0x11031c8d0>"
      ]
     },
     "metadata": {},
     "output_type": "display_data"
    }
   ],
   "source": [
    "#Exercise (c): programming  BIC and AIC for all n\n",
    "BIC = []\n",
    "AIC = []\n",
    "size = len(d['x'])\n",
    "\n",
    "for i in range (1, n+1):\n",
    "    bic = 2.0*(maximum_like_per_n[i-1])+i*np.log(size)\n",
    "    BIC.append(bic)\n",
    "    aic = 2.0*(maximum_like_per_n[i-1])+2*i\n",
    "    AIC.append(aic)\n",
    "\n",
    "plt.figure()\n",
    "plt.loglog(nums, BIC, 'ko', label=\"BIC\")\n",
    "plt.loglog(nums, AIC, 'bo', label=\"AIC\")\n",
    "#plt.xlabel(\"order of polinomia\")\n",
    "plt.ylabel(\"Selection Criterion\")\n",
    "plt.ylim(0, 0.4E8)\n",
    "plt.legend()\n",
    "\n",
    "print BIC\n",
    "print AIC\n"
   ]
  },
  {
   "cell_type": "code",
   "execution_count": 51,
   "metadata": {
    "collapsed": false
   },
   "outputs": [
    {
     "ename": "NameError",
     "evalue": "name 'p_init' is not defined",
     "output_type": "error",
     "traceback": [
      "\u001b[0;31m---------------------------------------------------------------------------\u001b[0m",
      "\u001b[0;31mNameError\u001b[0m                                 Traceback (most recent call last)",
      "\u001b[0;32m<ipython-input-51-e679ebcf3e79>\u001b[0m in \u001b[0;36m<module>\u001b[0;34m()\u001b[0m\n\u001b[1;32m     18\u001b[0m \u001b[0mndim\u001b[0m\u001b[0;34m,\u001b[0m \u001b[0mnwalkers\u001b[0m \u001b[0;34m=\u001b[0m \u001b[0;36m2\u001b[0m\u001b[0;34m,\u001b[0m \u001b[0;36m100\u001b[0m\u001b[0;34m\u001b[0m\u001b[0m\n\u001b[1;32m     19\u001b[0m \u001b[0;31m# Setup a number of initial positions.\u001b[0m\u001b[0;34m\u001b[0m\u001b[0;34m\u001b[0m\u001b[0m\n\u001b[0;32m---> 20\u001b[0;31m \u001b[0mpos\u001b[0m \u001b[0;34m=\u001b[0m \u001b[0;34m[\u001b[0m\u001b[0mp_init\u001b[0m \u001b[0;34m+\u001b[0m \u001b[0;36m1e-4\u001b[0m\u001b[0;34m*\u001b[0m\u001b[0mnp\u001b[0m\u001b[0;34m.\u001b[0m\u001b[0mrandom\u001b[0m\u001b[0;34m.\u001b[0m\u001b[0mrandn\u001b[0m\u001b[0;34m(\u001b[0m\u001b[0mndim\u001b[0m\u001b[0;34m)\u001b[0m \u001b[0;32mfor\u001b[0m \u001b[0mi\u001b[0m \u001b[0;32min\u001b[0m \u001b[0mrange\u001b[0m\u001b[0;34m(\u001b[0m\u001b[0mnwalkers\u001b[0m\u001b[0;34m)\u001b[0m\u001b[0;34m]\u001b[0m\u001b[0;34m\u001b[0m\u001b[0m\n\u001b[0m\u001b[1;32m     21\u001b[0m \u001b[0;31m# Create the sampler.\u001b[0m\u001b[0;34m\u001b[0m\u001b[0;34m\u001b[0m\u001b[0m\n\u001b[1;32m     22\u001b[0m \u001b[0msampler\u001b[0m \u001b[0;34m=\u001b[0m \u001b[0memcee\u001b[0m\u001b[0;34m.\u001b[0m\u001b[0mEnsembleSampler\u001b[0m\u001b[0;34m(\u001b[0m\u001b[0mnwalkers\u001b[0m\u001b[0;34m,\u001b[0m \u001b[0mndim\u001b[0m\u001b[0;34m,\u001b[0m \u001b[0mlnprob\u001b[0m\u001b[0;34m,\u001b[0m \u001b[0margs\u001b[0m\u001b[0;34m=\u001b[0m\u001b[0;34m(\u001b[0m\u001b[0md\u001b[0m\u001b[0;34m[\u001b[0m\u001b[0;34m'x'\u001b[0m\u001b[0;34m]\u001b[0m\u001b[0;34m,\u001b[0m \u001b[0md\u001b[0m\u001b[0;34m[\u001b[0m\u001b[0;34m'y'\u001b[0m\u001b[0;34m]\u001b[0m\u001b[0;34m,\u001b[0m \u001b[0md\u001b[0m\u001b[0;34m[\u001b[0m\u001b[0;34m'sigma'\u001b[0m\u001b[0;34m]\u001b[0m\u001b[0;34m)\u001b[0m\u001b[0;34m)\u001b[0m\u001b[0;34m\u001b[0m\u001b[0m\n",
      "\u001b[0;31mNameError\u001b[0m: name 'p_init' is not defined"
     ]
    }
   ],
   "source": [
    "# Exercise (d): comparing models usings bayesian statistics. Need to calculate a prior and running emcee\n",
    "\n",
    "def lnprior(theta):\n",
    "    for elements in theta:\n",
    "        if -100.0 < elements < 100.0:\n",
    "            return 0.0\n",
    "    return -np.inf\n",
    "\n",
    "def lnprob(theta, x, y, yerr, n):\n",
    "    lp = lnprior(theta)\n",
    "    if not np.isfinite(lp):\n",
    "        return -np.inf\n",
    "    return lp+neglnL(theta, x, y, yerr, n)\n",
    "\n",
    "\n",
    "#MCMC\n",
    "# Set up the properties of the problem.\n",
    "ndim, nwalkers = 2, 100\n",
    "# Setup a number of initial positions.\n",
    "pos = [p_init + 1e-4*np.random.randn(ndim) for i in range(nwalkers)]\n",
    "# Create the sampler.\n",
    "sampler = emcee.EnsembleSampler(nwalkers, ndim, lnprob, args=(d['x'], d['y'], d['sigma']))\n",
    "# Run the process.\n",
    "pos, prob, state = sampler.run_mcmc(pos, 500)\n",
    "\n"
   ]
  },
  {
   "cell_type": "code",
   "execution_count": null,
   "metadata": {
    "collapsed": true
   },
   "outputs": [],
   "source": []
  },
  {
   "cell_type": "code",
   "execution_count": null,
   "metadata": {
    "collapsed": true
   },
   "outputs": [],
   "source": []
  },
  {
   "cell_type": "code",
   "execution_count": null,
   "metadata": {
    "collapsed": true
   },
   "outputs": [],
   "source": []
  },
  {
   "cell_type": "code",
   "execution_count": null,
   "metadata": {
    "collapsed": true
   },
   "outputs": [],
   "source": []
  },
  {
   "cell_type": "code",
   "execution_count": null,
   "metadata": {
    "collapsed": true
   },
   "outputs": [],
   "source": []
  },
  {
   "cell_type": "code",
   "execution_count": null,
   "metadata": {
    "collapsed": true
   },
   "outputs": [],
   "source": []
  },
  {
   "cell_type": "code",
   "execution_count": null,
   "metadata": {
    "collapsed": true
   },
   "outputs": [],
   "source": []
  },
  {
   "cell_type": "code",
   "execution_count": null,
   "metadata": {
    "collapsed": true
   },
   "outputs": [],
   "source": []
  }
 ],
 "metadata": {
  "kernelspec": {
   "display_name": "Python 2",
   "language": "python",
   "name": "python2"
  },
  "language_info": {
   "codemirror_mode": {
    "name": "ipython",
    "version": 2
   },
   "file_extension": ".py",
   "mimetype": "text/x-python",
   "name": "python",
   "nbconvert_exporter": "python",
   "pygments_lexer": "ipython2",
   "version": "2.7.12"
  }
 },
 "nbformat": 4,
 "nbformat_minor": 0
}
