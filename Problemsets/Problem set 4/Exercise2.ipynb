{
 "cells": [
  {
   "cell_type": "code",
   "execution_count": 1,
   "metadata": {
    "collapsed": true
   },
   "outputs": [],
   "source": [
    "import numpy as np\n",
    "import scipy\n",
    "from astropy.table import Table\n",
    "import matplotlib.pyplot as plt\n",
    "from numpy import linalg as LA\n",
    "%matplotlib inline\n",
    "from sklearn.decomposition import PCA\n",
    "from sklearn.preprocessing import StandardScaler"
   ]
  },
  {
   "cell_type": "code",
   "execution_count": 4,
   "metadata": {
    "collapsed": false
   },
   "outputs": [
    {
     "name": "stdout",
     "output_type": "stream",
     "text": [
      "col0       X              Y               Z                W         \n",
      "---- ------------- --------------- --------------- ------------------\n",
      "   0 3.54577145005   5.16368084694  0.363706423342    -0.121369153935\n",
      "   1 2.72105540009   4.01636838453  0.481168874254    0.0188136957056\n",
      "   2 2.74351012168 -0.159039147931   5.37364463313   -0.0572263899207\n",
      "   3 4.25197643785   5.25253342752    1.6193026776     0.274511796478\n",
      "   4    1.94389368   1.91898383005   1.36993712064     0.012495397935\n",
      "   5 2.06231195635   2.18120167623   1.81712370225    -0.106524615482\n",
      "   6 3.33597088806    0.4810964323    5.8538355328    0.0603053697903\n",
      "   7 4.28940557934   5.90967529503   0.83255963741    -0.106146763692\n",
      "   8 2.26136429431   1.00951198851   2.79392646319    -0.151643049572\n",
      "   9 3.46990975904   5.51322631808  0.345520238562    0.0329282505295\n",
      " ...           ...             ...             ...                ...\n",
      " 489 4.11285167983   4.53640433032   2.53882553478 -0.000845748620002\n",
      " 490 3.82933796899   3.69653239133   2.92040127385    -0.172365143381\n",
      " 491 3.40471494792  0.240568286036   6.11012898051    -0.102553725477\n",
      " 492 4.17534199892    4.6448325441   2.35206899583    0.0534927593749\n",
      " 493 2.31979114127  0.814273190439   3.57399946869    -0.165002519482\n",
      " 494 3.38938593649   3.93978648579   1.50753552083    0.0668947309064\n",
      " 495 2.94255003478   4.29517425132  0.433159029702    0.0280322303504\n",
      " 496 3.28091436783  0.947183354852   5.39656998984    0.0402717512664\n",
      " 497 2.79037774545   4.22389765769  0.242104507818    0.0595191514674\n",
      " 498 3.17837601175   2.81965681762   2.66602365717  -0.00448949221452\n",
      " 499 2.83376134273    4.9747278003 -0.360984863744    0.0645346443082\n",
      "Length = 500 rows\n"
     ]
    }
   ],
   "source": [
    "data = Table.read(\"/Users/guadalupecanasherrera/DDM2017/Datasets/xyzw-for-PCA.csv\")\n",
    "print data"
   ]
  },
  {
   "cell_type": "code",
   "execution_count": 7,
   "metadata": {
    "collapsed": false
   },
   "outputs": [
    {
     "data": {
      "text/plain": [
       "PCA(copy=True, n_components=4, whiten=False)"
      ]
     },
     "execution_count": 7,
     "metadata": {},
     "output_type": "execute_result"
    }
   ],
   "source": [
    "pca = PCA(whiten = False, n_components=4)\n",
    "X = np.vstack([data['X'], data['Y'], data['Z'], data['W']]).T\n",
    "scl = StandardScaler()\n",
    "Xs = scl.fit_transform(X)\n",
    "pca.fit(Xs)"
   ]
  },
  {
   "cell_type": "code",
   "execution_count": null,
   "metadata": {
    "collapsed": true
   },
   "outputs": [],
   "source": []
  }
 ],
 "metadata": {
  "kernelspec": {
   "display_name": "Python 2",
   "language": "python",
   "name": "python2"
  },
  "language_info": {
   "codemirror_mode": {
    "name": "ipython",
    "version": 2
   },
   "file_extension": ".py",
   "mimetype": "text/x-python",
   "name": "python",
   "nbconvert_exporter": "python",
   "pygments_lexer": "ipython2",
   "version": "2.7.12"
  }
 },
 "nbformat": 4,
 "nbformat_minor": 0
}
