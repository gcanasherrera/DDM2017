{
 "cells": [
  {
   "cell_type": "code",
   "execution_count": 63,
   "metadata": {
    "collapsed": false
   },
   "outputs": [
    {
     "name": "stdout",
     "output_type": "stream",
     "text": [
      "Look for Field of S5\n",
      "\n",
      "FieldID=3 Star=S5\n",
      "Field ID is 3\n",
      "\n"
     ]
    }
   ],
   "source": [
    "import sqlite3 as lite\n",
    "\n",
    "con = lite.connect('DDM17.db')\n",
    "rows = con.execute(\"Select x, y FROM Stars\")\n",
    "\n",
    "saver=[]\n",
    "\n",
    "print \"Look for Field of S5\\n\"\n",
    "for row in rows:\n",
    "    #print \"Ra={0} Dec={1}\".format(row[0], row[1])\n",
    "    if row[3]=='S5':\n",
    "        print \"FieldID={0} Star={1}\".format(row[2], row[3])\n",
    "        saver.append(row[2])\n",
    "        print \"Field ID is {0}\\n\".format(saver[0])\n",
    "    "
   ]
  },
  {
   "cell_type": "code",
   "execution_count": 53,
   "metadata": {
    "collapsed": true
   },
   "outputs": [],
   "source": [
    "#Try to identify stars s5 FITS image\n",
    "rows_fits = con.execute(\"Select ID, WhereStored FROM Observations\")"
   ]
  },
  {
   "cell_type": "code",
   "execution_count": 54,
   "metadata": {
    "collapsed": false
   },
   "outputs": [
    {
     "name": "stdout",
     "output_type": "stream",
     "text": [
      "I will look for the field where S5 is saved ...\n",
      "\n",
      "S5 is saved in WhereStored=/disks/yaeps-1/StF-045.fits\n"
     ]
    }
   ],
   "source": [
    "#print saver[0]\n",
    "print \"I will look for the field where S5 is saved ...\\n\"\n",
    "for row in rows_fits:\n",
    "    #print \"ID={0} WhereStored={1}\".format(row[0], row[1])\n",
    "    if row[0]==saver[0]:\n",
    "        print \"S5 is saved in WhereStored={}\".format(row[1])"
   ]
  },
  {
   "cell_type": "code",
   "execution_count": 59,
   "metadata": {
    "collapsed": false
   },
   "outputs": [],
   "source": [
    "#Another way of doing this is to COMBINE TABLES\n",
    "rows_combine = con.execute(\"Select S.Star, O.WhereStored FROM Stars as S JOIN Observations as O ON S.StarID=O.ID\")"
   ]
  },
  {
   "cell_type": "code",
   "execution_count": 60,
   "metadata": {
    "collapsed": false
   },
   "outputs": [
    {
     "name": "stdout",
     "output_type": "stream",
     "text": [
      "StarID = S5 WhereStored=/disks/yaeps-1/StF-045.fits\n"
     ]
    }
   ],
   "source": [
    "for r in rows_combine:\n",
    "    if r[0]=='S5':\n",
    "        print \"StarID = {0} WhereStored={1}\".format(r[0], r[1])"
   ]
  },
  {
   "cell_type": "code",
   "execution_count": 68,
   "metadata": {
    "collapsed": false
   },
   "outputs": [
    {
     "name": "stdout",
     "output_type": "stream",
     "text": [
      "(1, 2)\n",
      "(2, 1)\n",
      "(3, 1)\n"
     ]
    }
   ],
   "source": [
    "rows_by_field = con.execute(\"Select FieldID, COUNT(*) as NperField FROM Stars GROUP BY FieldID\")\n",
    "for r in rows_by_field:\n",
    "    print r"
   ]
  },
  {
   "cell_type": "code",
   "execution_count": null,
   "metadata": {
    "collapsed": true
   },
   "outputs": [],
   "source": []
  }
 ],
 "metadata": {
  "kernelspec": {
   "display_name": "Python 2",
   "language": "python",
   "name": "python2"
  },
  "language_info": {
   "codemirror_mode": {
    "name": "ipython",
    "version": 2
   },
   "file_extension": ".py",
   "mimetype": "text/x-python",
   "name": "python",
   "nbconvert_exporter": "python",
   "pygments_lexer": "ipython2",
   "version": "2.7.12"
  }
 },
 "nbformat": 4,
 "nbformat_minor": 0
}
